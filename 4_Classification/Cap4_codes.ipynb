{
  "nbformat": 4,
  "nbformat_minor": 0,
  "metadata": {
    "colab": {
      "name": "Cap4_codes.ipynb",
      "provenance": [],
      "collapsed_sections": []
    },
    "kernelspec": {
      "name": "python3",
      "display_name": "Python 3"
    }
  },
  "cells": [
    {
      "cell_type": "markdown",
      "source": [
        "<div style=\"width: 100%; clear: both;\">\n",
        "<div style=\"float: left; width: 50%;\">\n",
        "<img src=\"http://www.uoc.edu/portal/_resources/common/imatges/marca_UOC/UOC_Masterbrand.jpg\", align=\"left\">\n",
        "</div>\n",
        "<div style=\"float: right; width: 50%;\">\n",
        "<p style=\"margin: 0; padding-top: 22px; text-align:right;\">M1.304 · Inteligencia Artificial Avanzada / M0.539 · Inteligencia Artificial</p>\n",
        "<p style=\"margin: 0; text-align:right;\">MU Ingeniería Informática / MU Ingeniería Computacional y Matemática</p>\n",
        "<p style=\"margin: 0; text-align:right; padding-button: 100px;\">Estudios de Informática, Multimedia y Telecomunicación</p>\n",
        "</div>\n",
        "</div>\n",
        "<div style=\"width:100%;\">&nbsp;</div>"
      ],
      "metadata": {
        "id": "SlK3nCF8r2jv"
      }
    },
    {
      "cell_type": "markdown",
      "metadata": {
        "id": "a3MYB6TZ2k8_"
      },
      "source": [
        "## Código del capítulo 4: Clasificación"
      ]
    },
    {
      "cell_type": "markdown",
      "metadata": {
        "id": "6CjKUG843cfJ"
      },
      "source": [
        "Import mushroom dataset"
      ]
    },
    {
      "cell_type": "code",
      "metadata": {
        "colab": {
          "base_uri": "https://localhost:8080/"
        },
        "id": "eK6bE0rj3cmn",
        "outputId": "1553e39f-2022-452d-f440-39228acfab2e"
      },
      "source": [
        "from google.colab import drive\n",
        "drive.mount('/content/drive')"
      ],
      "execution_count": null,
      "outputs": [
        {
          "output_type": "stream",
          "text": [
            "Drive already mounted at /content/drive; to attempt to forcibly remount, call drive.mount(\"/content/drive\", force_remount=True).\n"
          ],
          "name": "stdout"
        }
      ]
    },
    {
      "cell_type": "code",
      "metadata": {
        "colab": {
          "base_uri": "https://localhost:8080/",
          "height": 36
        },
        "id": "qh8COq9B4oV9",
        "outputId": "ad6f0b8b-d69e-4066-8fca-ca54c8c5ed07"
      },
      "source": [
        "pwd"
      ],
      "execution_count": null,
      "outputs": [
        {
          "output_type": "execute_result",
          "data": {
            "application/vnd.google.colaboratory.intrinsic+json": {
              "type": "string"
            },
            "text/plain": [
              "'/content'"
            ]
          },
          "metadata": {
            "tags": []
          },
          "execution_count": 2
        }
      ]
    },
    {
      "cell_type": "markdown",
      "metadata": {
        "id": "HjkvJ9HfU8K_"
      },
      "source": [
        "Cambiar de directorio de trabajo para cargar los datos:"
      ]
    },
    {
      "cell_type": "code",
      "metadata": {
        "colab": {
          "base_uri": "https://localhost:8080/"
        },
        "id": "53iKW4aUUmhp",
        "outputId": "2cd6a0ec-3456-4427-9cc4-59010bc9f703"
      },
      "source": [
        "cd /content/drive/MyDrive/Assignatures/IA avançada/IA Avançada (M0.539, M1.204, M1.304) + Labs/Recursos Software Assignatura/Revisió codi assignatura/code_ipynb/"
      ],
      "execution_count": null,
      "outputs": [
        {
          "output_type": "stream",
          "text": [
            "/content/drive/MyDrive/Assignatures/IA avançada/IA Avançada (M0.539, M1.204, M1.304) + Labs/Recursos Software Assignatura/Revisió codi assignatura/code_ipynb\n"
          ],
          "name": "stdout"
        }
      ]
    },
    {
      "cell_type": "code",
      "metadata": {
        "colab": {
          "base_uri": "https://localhost:8080/",
          "height": 36
        },
        "id": "VnJwmL0VU4NH",
        "outputId": "9cb32754-ab23-4190-d445-535f3ccab9e5"
      },
      "source": [
        "pwd"
      ],
      "execution_count": null,
      "outputs": [
        {
          "output_type": "execute_result",
          "data": {
            "application/vnd.google.colaboratory.intrinsic+json": {
              "type": "string"
            },
            "text/plain": [
              "'/content/drive/MyDrive/Assignatures/IA avançada/IA Avançada (M0.539, M1.204, M1.304) + Labs/Recursos Software Assignatura/Revisió codi assignatura/code_ipynb'"
            ]
          },
          "metadata": {
            "tags": []
          },
          "execution_count": 4
        }
      ]
    },
    {
      "cell_type": "markdown",
      "metadata": {
        "id": "xCKn8SBZ2kSt"
      },
      "source": [
        "Código 4.1: Naive Bayes en Python"
      ]
    },
    {
      "cell_type": "code",
      "metadata": {
        "id": "pTnfKpVa43XB"
      },
      "source": [
        "import os\n",
        "dataset_path = os.getcwd() + \"/Cap4_datasets/\""
      ],
      "execution_count": null,
      "outputs": []
    },
    {
      "cell_type": "code",
      "metadata": {
        "colab": {
          "base_uri": "https://localhost:8080/"
        },
        "id": "Pl1fIW_D2ayI",
        "outputId": "01cbd5b8-eb6d-4bf5-91e4-d73b516b7dfc"
      },
      "source": [
        "import numpy as np\n",
        "from sklearn.naive_bayes import GaussianNB\n",
        "from sklearn.model_selection import train_test_split\n",
        "from sklearn import preprocessing\n",
        "\n",
        "le = preprocessing.LabelEncoder()\n",
        "\n",
        "with open( dataset_path + \"mushroom.data.txt\",\"r\") as fopen:\n",
        "    lines = [l.strip().split(',') for l in fopen]\n",
        "\n",
        "attrs = np.array([l[1:] for l in lines]).flatten()\n",
        "le.fit(attrs)\n",
        "encoded_attrs = le.transform(attrs)\n",
        "\n",
        "X = np.reshape(encoded_attrs,(len(lines),-1))\n",
        "\n",
        "y_labels = np.array([l[0] for l in lines])\n",
        "le.fit(y_labels)\n",
        "y = le.transform(y_labels)\n",
        "\n",
        "X_train, X_test, y_train, y_test = train_test_split(X, y,\n",
        "                                                    test_size=0.33)\n",
        "\n",
        "clf = GaussianNB()\n",
        "clf.fit(X_train, y_train)\n",
        "\n",
        "print(\"PRECISION:\",clf.score(X_test,y_test))\n"
      ],
      "execution_count": null,
      "outputs": [
        {
          "output_type": "stream",
          "text": [
            "PRECISION: 0.865721745617307\n"
          ],
          "name": "stdout"
        }
      ]
    },
    {
      "cell_type": "markdown",
      "metadata": {
        "id": "yGgzsE-_5aVH"
      },
      "source": [
        "Código 4.2: logisticRegression / máxima entropía en Python"
      ]
    },
    {
      "cell_type": "code",
      "metadata": {
        "colab": {
          "base_uri": "https://localhost:8080/"
        },
        "id": "reFxUBA_2nJQ",
        "outputId": "3bb456e5-77f6-46e9-ae56-e0b8db45d0be"
      },
      "source": [
        "import numpy as np\n",
        "from sklearn.linear_model import LogisticRegression\n",
        "from sklearn.model_selection import train_test_split\n",
        "from sklearn import preprocessing\n",
        "\n",
        "le = preprocessing.LabelEncoder()\n",
        "\n",
        "with open(dataset_path + \"mushroom.data.txt\",\"r\") as fopen:\n",
        "    lines = [l.strip().split(',') for l in fopen]\n",
        "\n",
        "attrs = np.array([l[1:] for l in lines]).flatten()\n",
        "le.fit(attrs)\n",
        "encoded_attrs = le.transform(attrs)\n",
        "\n",
        "X = np.reshape(encoded_attrs,(len(lines),-1))\n",
        "\n",
        "y_labels = np.array([l[0] for l in lines])\n",
        "le.fit(y_labels)\n",
        "y = le.transform(y_labels)\n",
        "\n",
        "X_train, X_test, y_train, y_test = train_test_split(X, y, test_size=0.33)\n",
        "\n",
        "clf = LogisticRegression(max_iter=10000)\n",
        "clf.fit(X_train, y_train)\n",
        "\n",
        "print(\"PRECISION:\",clf.score(X_test,y_test))\n"
      ],
      "execution_count": null,
      "outputs": [
        {
          "output_type": "stream",
          "text": [
            "PRECISION: 0.9410667661320403\n"
          ],
          "name": "stdout"
        }
      ]
    },
    {
      "cell_type": "markdown",
      "metadata": {
        "id": "L2OlXUcI5_67"
      },
      "source": [
        "Código 4.3: kNN en Python"
      ]
    },
    {
      "cell_type": "code",
      "metadata": {
        "colab": {
          "base_uri": "https://localhost:8080/"
        },
        "id": "429eoMcK5dXm",
        "outputId": "353bd690-3481-4c6d-f028-0f017026113b"
      },
      "source": [
        "from sklearn.neighbors import KNeighborsClassifier\n",
        "from sklearn.model_selection import train_test_split\n",
        "from sklearn import datasets\n",
        "\n",
        "iris = datasets.load_iris()\n",
        "X = iris.data\n",
        "y = iris.target\n",
        "\n",
        "X_train, X_test, y_train, y_test = train_test_split(X, y,\n",
        "                                                    test_size=0.33)\n",
        "\n",
        "clf = KNeighborsClassifier(n_neighbors=3, metric='euclidean')\n",
        "clf.fit(X_train, y_train)\n",
        "\n",
        "print(\"PRECISION:\",clf.score(X_test,y_test))"
      ],
      "execution_count": null,
      "outputs": [
        {
          "output_type": "stream",
          "text": [
            "PRECISION: 0.96\n"
          ],
          "name": "stdout"
        }
      ]
    },
    {
      "cell_type": "markdown",
      "metadata": {
        "id": "9sCJ788r6I4N"
      },
      "source": [
        "Código 4.4: clasificador lineal basado en distancias en Python"
      ]
    },
    {
      "cell_type": "code",
      "metadata": {
        "colab": {
          "base_uri": "https://localhost:8080/"
        },
        "id": "bNmNKIS76GFZ",
        "outputId": "d4283cdf-db95-4581-a582-314030346dea"
      },
      "source": [
        "from sklearn.neighbors import NearestCentroid\n",
        "from sklearn.model_selection import train_test_split\n",
        "from sklearn import datasets\n",
        "\n",
        "iris = datasets.load_iris()\n",
        "X = iris.data\n",
        "y = iris.target\n",
        "\n",
        "X_train, X_test, y_train, y_test = train_test_split(X, y,\n",
        "                                                    test_size=0.33)\n",
        "\n",
        "clf = NearestCentroid() # Distancia euclidiana por defecto\n",
        "clf.fit(X_train, y_train)\n",
        "\n",
        "print(\"PRECISION:\",clf.score(X_test,y_test))"
      ],
      "execution_count": null,
      "outputs": [
        {
          "output_type": "stream",
          "text": [
            "PRECISION: 0.96\n"
          ],
          "name": "stdout"
        }
      ]
    },
    {
      "cell_type": "markdown",
      "metadata": {
        "id": "_Q6gUJJ96M6z"
      },
      "source": [
        "Código 4.5: k-means supervisado en Python"
      ]
    },
    {
      "cell_type": "code",
      "metadata": {
        "colab": {
          "base_uri": "https://localhost:8080/"
        },
        "id": "ZRuVfj3n6L2V",
        "outputId": "ce79889d-defd-4937-eaba-89dc5f7deaad"
      },
      "source": [
        "from sklearn.cluster import KMeans\n",
        "from sklearn.neighbors import KNeighborsClassifier\n",
        "from sklearn.model_selection import train_test_split\n",
        "from sklearn import datasets\n",
        "from functools import reduce\n",
        "import numpy as np\n",
        "\n",
        "k = 3 # num de centroides por clase para k-means\n",
        "m = 10 # max numero de iteraciones\n",
        "\n",
        "iris = datasets.load_iris()\n",
        "X = iris.data\n",
        "y = iris.target\n",
        "\n",
        "X_train, X_test, y_train, y_test = train_test_split(X, y,\n",
        "                                                    test_size=0.33)\n",
        "\n",
        "Xcent = {} # Diccionario con los k centroides de cada clase\n",
        "\n",
        "for c in set(y):\n",
        "\t# Indice de elementos con clase c\n",
        "    yc = list(filter(lambda z: z[1] == c, enumerate(y_train)))  \n",
        "    # Elementos cuyo indice corresponde con el de yc\n",
        "    Xc = X_train[[i[0] for i in yc]] \n",
        "    # Aplicamos k-means\n",
        "    kmeans = KMeans(n_clusters=k,max_iter=m).fit(Xc) \n",
        "    # Obtenemos centroides\n",
        "    Xcent[c] = kmeans.cluster_centers_.tolist() \n",
        "\n",
        "#Concatenamos listas de centroides por clase\n",
        "X_train_kNN = reduce(lambda u,v: u+v, Xcent.values()) \n",
        "y_train_kNN = []\n",
        "for c in Xcent.keys():\n",
        "    y_train_kNN.extend([c]*k)\n",
        "\n",
        "clf = KNeighborsClassifier(n_neighbors=1)\n",
        "clf.fit(np.array(X_train_kNN), np.array(y_train_kNN))\n",
        "\n",
        "\n",
        "print(\"PRECISION:\",clf.score(X_test,y_test))"
      ],
      "execution_count": null,
      "outputs": [
        {
          "output_type": "stream",
          "text": [
            "PRECISION: 1.0\n"
          ],
          "name": "stdout"
        }
      ]
    },
    {
      "cell_type": "markdown",
      "metadata": {
        "id": "y81u2NSJ6Td0"
      },
      "source": [
        "Código 4.6: árboles de decisión en Python"
      ]
    },
    {
      "cell_type": "code",
      "metadata": {
        "colab": {
          "base_uri": "https://localhost:8080/"
        },
        "id": "PTSb_OwL6SXc",
        "outputId": "6e3bb6b7-bd08-4fe0-ab0a-ae87cded5610"
      },
      "source": [
        "import numpy as np\n",
        "from sklearn.tree import DecisionTreeClassifier\n",
        "from sklearn.model_selection import train_test_split\n",
        "from sklearn import preprocessing\n",
        "\n",
        "le = preprocessing.LabelEncoder()\n",
        "\n",
        "with open(dataset_path + \"mushroom.data.txt\",\"r\") as fopen:\n",
        "    lines = [l.strip().split(',') for l in fopen]\n",
        "\n",
        "attrs = np.array([l[1:] for l in lines]).flatten()\n",
        "le.fit(attrs)\n",
        "encoded_attrs = le.transform(attrs)\n",
        "\n",
        "X = np.reshape(encoded_attrs,(len(lines),-1))\n",
        "\n",
        "y_labels = np.array([l[0] for l in lines])\n",
        "le.fit(y_labels)\n",
        "y = le.transform(y_labels)\n",
        "\n",
        "X_train, X_test, y_train, y_test = train_test_split(X, y,\n",
        "                                                    test_size=0.33)\n",
        "\n",
        "clf = DecisionTreeClassifier()\n",
        "clf.fit(X_train, y_train)\n",
        "\n",
        "print(\"PRECISION:\",clf.score(X_test,y_test))\n"
      ],
      "execution_count": null,
      "outputs": [
        {
          "output_type": "stream",
          "text": [
            "PRECISION: 0.9977620290936218\n"
          ],
          "name": "stdout"
        }
      ]
    },
    {
      "cell_type": "markdown",
      "metadata": {
        "id": "yI_MZXTN6g8N"
      },
      "source": [
        "Código 4.7: AdaBoost en Python"
      ]
    },
    {
      "cell_type": "code",
      "metadata": {
        "colab": {
          "base_uri": "https://localhost:8080/"
        },
        "id": "RMWLybsK6am1",
        "outputId": "f49e6786-7a5f-4165-f824-2a0846182c6b"
      },
      "source": [
        "import numpy as np\n",
        "from sklearn.ensemble import AdaBoostClassifier\n",
        "from sklearn.model_selection import train_test_split\n",
        "from sklearn import preprocessing\n",
        "\n",
        "le = preprocessing.LabelEncoder()\n",
        "\n",
        "with open(dataset_path + \"mushroom.data.txt\",\"r\") as fopen:\n",
        "    lines = [l.strip().split(',') for l in fopen]\n",
        "\n",
        "attrs = np.array([l[1:] for l in lines]).flatten()\n",
        "le.fit(attrs)\n",
        "encoded_attrs = le.transform(attrs)\n",
        "\n",
        "X = np.reshape(encoded_attrs,(len(lines),-1))\n",
        "\n",
        "y_labels = np.array([l[0] for l in lines])\n",
        "le.fit(y_labels)\n",
        "y = le.transform(y_labels)\n",
        "\n",
        "X_train, X_test, y_train, y_test = train_test_split(X, y,\n",
        "                                                    test_size=0.33)\n",
        "\n",
        "clf = AdaBoostClassifier()\n",
        "clf.fit(X_train, y_train)\n",
        "\n",
        "print(\"PRECISION:\",clf.score(X_test,y_test))"
      ],
      "execution_count": null,
      "outputs": [
        {
          "output_type": "stream",
          "text": [
            "PRECISION: 1.0\n"
          ],
          "name": "stdout"
        }
      ]
    },
    {
      "cell_type": "markdown",
      "metadata": {
        "id": "GVyEEzdG6o2e"
      },
      "source": [
        "Código 4.8: clasificador SVM con kernels lineal y RBF"
      ]
    },
    {
      "cell_type": "code",
      "metadata": {
        "colab": {
          "base_uri": "https://localhost:8080/"
        },
        "id": "ZI195Vcd6j9U",
        "outputId": "2ccdec87-40f5-4270-bd5e-a09858d3ef49"
      },
      "source": [
        "from sklearn.svm import SVC\n",
        "from sklearn.model_selection import train_test_split\n",
        "from sklearn import datasets\n",
        "\n",
        "iris = datasets.load_iris()\n",
        "X = iris.data\n",
        "y = iris.target\n",
        "\n",
        "X_train, X_test, y_train, y_test = train_test_split(X, y,\n",
        "                                                    test_size=0.33)\n",
        "\n",
        "kernels = {'linear','rbf'}\n",
        "\n",
        "for k in kernels:\n",
        "    clf = SVC(kernel=k)\n",
        "    clf.fit(X_train, y_train)\n",
        "\n",
        "    print(\"PRECISION (\",k,\"):\",clf.score(X_test,y_test))"
      ],
      "execution_count": null,
      "outputs": [
        {
          "output_type": "stream",
          "text": [
            "PRECISION ( rbf ): 0.96\n",
            "PRECISION ( linear ): 0.98\n"
          ],
          "name": "stdout"
        }
      ]
    },
    {
      "cell_type": "code",
      "metadata": {
        "id": "IbtfY_K6605u"
      },
      "source": [
        ""
      ],
      "execution_count": null,
      "outputs": []
    }
  ]
}