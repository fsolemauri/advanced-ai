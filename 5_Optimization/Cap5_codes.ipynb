{
  "nbformat": 4,
  "nbformat_minor": 0,
  "metadata": {
    "colab": {
      "name": "Cap5_codes.ipynb",
      "provenance": [],
      "collapsed_sections": []
    },
    "kernelspec": {
      "name": "python3",
      "display_name": "Python 3"
    }
  },
  "cells": [
    {
      "cell_type": "markdown",
      "source": [
        "<div style=\"width: 100%; clear: both;\">\n",
        "<div style=\"float: left; width: 50%;\">\n",
        "<img src=\"http://www.uoc.edu/portal/_resources/common/imatges/marca_UOC/UOC_Masterbrand.jpg\", align=\"left\">\n",
        "</div>\n",
        "<div style=\"float: right; width: 50%;\">\n",
        "<p style=\"margin: 0; padding-top: 22px; text-align:right;\">M1.304 · Inteligencia Artificial Avanzada / M0.539 · Inteligencia Artificial</p>\n",
        "<p style=\"margin: 0; text-align:right;\">MU Ingeniería Informática / MU Ingeniería Computacional y Matemática</p>\n",
        "<p style=\"margin: 0; text-align:right; padding-button: 100px;\">Estudios de Informática, Multimedia y Telecomunicación</p>\n",
        "</div>\n",
        "</div>\n",
        "<div style=\"width:100%;\">&nbsp;</div>"
      ],
      "metadata": {
        "id": "ljzBOsLQsKes"
      }
    },
    {
      "cell_type": "markdown",
      "metadata": {
        "id": "2RKjY76E7D1K"
      },
      "source": [
        "## Código del capítulo 5: Optimización "
      ]
    },
    {
      "cell_type": "markdown",
      "metadata": {
        "id": "BpDmoAYE7It7"
      },
      "source": [
        "Código 5.1: función de Rosenbrock y su función gradiente"
      ]
    },
    {
      "cell_type": "code",
      "metadata": {
        "id": "Z5G4_sna7AHW"
      },
      "source": [
        "#!/usr/bin/env python3\n",
        "# -*- coding: utf-8 -*-\n",
        "\"\"\"\n",
        "Created on Mon Aug 28 17:02:18 2017\n",
        "\n",
        "@author: samir\n",
        "\"\"\"\n",
        "\n",
        "########################################################################\n",
        "import numpy\n",
        "\n",
        "# Funcion de Rosenbrock\n",
        "def f(punto, *args):\n",
        "    \n",
        "    # Descomponer el punto y los parametros para manejarlos mejor\n",
        "    x, y = punto\n",
        "    a, b = args\n",
        "    \n",
        "    return (a - x)**2 + b*(y - x**2)**2\n",
        "\n",
        "# Gradiente de la funcion de Rosenbrock\n",
        "def gradf(punto, *args):\n",
        "\n",
        "    x, y = punto\n",
        "    a, b = args\n",
        "    \n",
        "    gfx = -2*(a - x) -4*b*(y - x**2)*x\n",
        "    gfy = 2*b*(y - x**2)\n",
        "    \n",
        "    # El gradiente es un vector de 2 componentes, uno por variable\n",
        "    return numpy.asarray((gfx, gfy))\n"
      ],
      "execution_count": null,
      "outputs": []
    },
    {
      "cell_type": "markdown",
      "metadata": {
        "id": "hcdSzTJw7VNg"
      },
      "source": [
        "Código 5.2: función de Rosenbrock y su función gradiente"
      ]
    },
    {
      "cell_type": "code",
      "metadata": {
        "colab": {
          "base_uri": "https://localhost:8080/"
        },
        "id": "fi2ZhGQ87DYK",
        "outputId": "bad80bbc-26f1-4a86-ba62-f6d60fdc4d03"
      },
      "source": [
        "# Interesa probar con diferentes puntos iniciales\n",
        "punto0 = numpy.asarray((0, 0)) \n",
        "#punto0 = numpy.asarray((1,0))\n",
        "\n",
        "# Valores de los parametros a y b\n",
        "args = (1, 100)\n",
        "\n",
        "from scipy import optimize\n",
        "res1 = optimize.fmin_cg(f, punto0, fprime=gradf, args=args)\n",
        "print (res1)\n"
      ],
      "execution_count": null,
      "outputs": [
        {
          "output_type": "stream",
          "text": [
            "Optimization terminated successfully.\n",
            "         Current function value: 0.000000\n",
            "         Iterations: 18\n",
            "         Function evaluations: 42\n",
            "         Gradient evaluations: 42\n",
            "[0.99999205 0.99998409]\n"
          ],
          "name": "stdout"
        }
      ]
    },
    {
      "cell_type": "markdown",
      "metadata": {
        "id": "ghCaFGMO7ueY"
      },
      "source": [
        "Código 5.3: aproximación polinómica de una señal con salto de valles"
      ]
    },
    {
      "cell_type": "markdown",
      "metadata": {
        "id": "cEJJNSuG8uhG"
      },
      "source": [
        "Import data"
      ]
    },
    {
      "cell_type": "code",
      "metadata": {
        "colab": {
          "base_uri": "https://localhost:8080/"
        },
        "id": "eK6bE0rj3cmn",
        "outputId": "bcb89c03-02da-40a4-821e-7bbff4b817f9"
      },
      "source": [
        "from google.colab import drive\n",
        "drive.mount('/content/drive')"
      ],
      "execution_count": null,
      "outputs": [
        {
          "output_type": "stream",
          "text": [
            "Mounted at /content/drive\n"
          ],
          "name": "stdout"
        }
      ]
    },
    {
      "cell_type": "code",
      "metadata": {
        "colab": {
          "base_uri": "https://localhost:8080/",
          "height": 36
        },
        "id": "qh8COq9B4oV9",
        "outputId": "1f59c1b9-cc65-4eeb-a42b-80eea9957914"
      },
      "source": [
        "pwd"
      ],
      "execution_count": null,
      "outputs": [
        {
          "output_type": "execute_result",
          "data": {
            "application/vnd.google.colaboratory.intrinsic+json": {
              "type": "string"
            },
            "text/plain": [
              "'/content'"
            ]
          },
          "metadata": {
            "tags": []
          },
          "execution_count": 4
        }
      ]
    },
    {
      "cell_type": "markdown",
      "metadata": {
        "id": "HjkvJ9HfU8K_"
      },
      "source": [
        "Cambiar de directorio de trabajo para cargar los datos:"
      ]
    },
    {
      "cell_type": "code",
      "metadata": {
        "colab": {
          "base_uri": "https://localhost:8080/"
        },
        "id": "53iKW4aUUmhp",
        "outputId": "7a5c331f-1092-4a37-f6d1-cd9adb1eba46"
      },
      "source": [
        "cd /content/drive/MyDrive/Assignatures/IA avançada/IA Avançada (M0.539, M1.204, M1.304) + Labs/Recursos Software Assignatura/Revisió codi assignatura/code_ipynb/"
      ],
      "execution_count": null,
      "outputs": [
        {
          "output_type": "stream",
          "text": [
            "/content/drive/MyDrive/Assignatures/IA avançada/IA Avançada (M0.539, M1.204, M1.304) + Labs/Recursos Software Assignatura/Revisió codi assignatura/code_ipynb\n"
          ],
          "name": "stdout"
        }
      ]
    },
    {
      "cell_type": "code",
      "metadata": {
        "colab": {
          "base_uri": "https://localhost:8080/",
          "height": 36
        },
        "id": "VnJwmL0VU4NH",
        "outputId": "1f58ccff-22da-46b6-a37b-bad13b7d1167"
      },
      "source": [
        "pwd"
      ],
      "execution_count": null,
      "outputs": [
        {
          "output_type": "execute_result",
          "data": {
            "application/vnd.google.colaboratory.intrinsic+json": {
              "type": "string"
            },
            "text/plain": [
              "'/content/drive/MyDrive/Assignatures/IA avançada/IA Avançada (M0.539, M1.204, M1.304) + Labs/Recursos Software Assignatura/Revisió codi assignatura/code_ipynb'"
            ]
          },
          "metadata": {
            "tags": []
          },
          "execution_count": 6
        }
      ]
    },
    {
      "cell_type": "code",
      "metadata": {
        "id": "pTnfKpVa43XB"
      },
      "source": [
        "import os\n",
        "dataset_path = os.getcwd() + \"/data/\""
      ],
      "execution_count": null,
      "outputs": []
    },
    {
      "cell_type": "code",
      "metadata": {
        "colab": {
          "base_uri": "https://localhost:8080/",
          "height": 561
        },
        "id": "3si44VAi7HCY",
        "outputId": "ec42955f-d8e0-4e86-87d2-e7be796a1ce6"
      },
      "source": [
        "# -*- coding: utf-8 -*-\n",
        "\"\"\"\n",
        "Created on Fri Nov 14 08:09:29 2014\n",
        "\n",
        "@author: samir\n",
        "\"\"\"\n",
        "\n",
        "\n",
        "\n",
        "import matplotlib.pyplot as plot\n",
        "\n",
        "#plot.figure()\n",
        "#plot.plot(xVal, yVal)\n",
        "#plot.show()\n",
        "\n",
        "#yVal = polynomial([-0.8, 0.7, 3.4, -1.6])\n",
        "\n",
        "\n",
        "import numpy\n",
        "\n",
        "# Dominio de la funcion\n",
        "xVal = numpy.linspace(-3, 3, 200)\n",
        "\n",
        "yVal = numpy.loadtxt(dataset_path + '/signal.data')\n",
        "\n",
        "\n",
        "# Funcion que aplica un polinomio en un dominio\n",
        "def polinomio(coefs, dominio):\n",
        "    a, b, c, d = coefs\n",
        "    return numpy.array([a*x**3 + b*x**2 + c*x + d for x in dominio])\n",
        "\n",
        "\n",
        "import math\n",
        "from sklearn.metrics import mean_squared_error\n",
        "\n",
        "def objetivo(solution):\n",
        "    return math.sqrt(mean_squared_error(yVal, \n",
        "                polinomio(solution, xVal)))/(max(yVal) - min(yVal))\n",
        "\n",
        " \n",
        "from scipy.optimize import basinhopping\n",
        "\n",
        "# Initial guess: let it be random (4 parameters in solution)\n",
        "from random import random\n",
        "punto0 = [random()*2-1 for i in range(4)]\n",
        "\n",
        "opti = basinhopping(func=objetivo, x0=punto0, niter=100)    \n",
        "\n",
        "print('Error minimo:', opti.fun)\n",
        "print('Coeficientes:', opti.x)\n",
        "\n",
        "\n",
        "plot.figure()\n",
        "plot.plot(xVal, yVal)\n",
        "plot.plot(xVal, polinomio(opti.x, xVal), c='red', ls='dashed')\n",
        "plot.show()\n",
        "             \n",
        "\n",
        "# Capture error on iterations\n",
        "\n",
        "minimos = []\n",
        "\n",
        "def registro(x, f, accepted):\n",
        "    minimos.append(f)\n",
        "\n",
        "opti = basinhopping(func=objetivo, x0=punto0, niter=100, callback=registro)    \n",
        "\n",
        "\n",
        "plot.figure()\n",
        "plot.plot(minimos)\n",
        "plot.show()"
      ],
      "execution_count": null,
      "outputs": [
        {
          "output_type": "stream",
          "text": [
            "Error minimo: 1.0981070958046267e-09\n",
            "Coeficientes: [-0.7880599   0.7286584   3.36156773 -1.65083981]\n"
          ],
          "name": "stdout"
        },
        {
          "output_type": "display_data",
          "data": {
            "image/png": "[encoded data removed]",
            "text/plain": [
              "<Figure size 432x288 with 1 Axes>"
            ]
          },
          "metadata": {
            "tags": [],
            "needs_background": "light"
          }
        },
        {
          "output_type": "display_data",
          "data": {
            "image/png": "[encoded data removed]",
            "text/plain": [
              "<Figure size 432x288 with 1 Axes>"
            ]
          },
          "metadata": {
            "tags": [],
            "needs_background": "light"
          }
        }
      ]
    },
    {
      "cell_type": "markdown",
      "metadata": {
        "id": "yHK5AFKG9uew"
      },
      "source": [
        "Código 5.4: algoritmo de la colonia de hormigas"
      ]
    },
    {
      "cell_type": "code",
      "metadata": {
        "colab": {
          "base_uri": "https://localhost:8080/"
        },
        "id": "XC3lmZBk7yy3",
        "outputId": "130903cf-7cb7-4373-d85a-17d92ce41d2a"
      },
      "source": [
        "# -*- coding: utf-8 -*-\n",
        "import random, sys, math\n",
        "\n",
        "# Nota: en lugar de matrices se usan listas de listas\n",
        "\n",
        "# Genera una matriz de distancias de nCiudades x nCiudades\n",
        "def matrizDistancias(nCiud, distanciaMaxima):\n",
        "    matriz = [[0 for i in range(nCiud)] for j in range(nCiud)]\n",
        "\n",
        "    for i in range(nCiud):\n",
        "        for j in range(i):\n",
        "            matriz[i][j] = distanciaMaxima*random.random()       \n",
        "            matriz[j][i] = matriz[i][j]\n",
        "\n",
        "    return matriz\n",
        "\n",
        "# Elige un paso de una hormiga, teniendo en cuenta las distancias \n",
        "# y las feromonas y descartando las ciudades ya visitadas.\n",
        "def eligeCiudad(dists, ferom, visitadas):\n",
        "    # Se calcula la tabla de pesos de cada ciudad\n",
        "    listaPesos  = []\n",
        "    disponibles = []\n",
        "    actual      = visitadas[-1]\n",
        "\n",
        "    # Influencia de cada valor (alfa: feromonas; beta: distancias)\n",
        "    alfa = 1.0\n",
        "    beta = 0.5\n",
        "\n",
        "    # El parametro beta (peso de las distancias) es 0.5, alfa=1.0\n",
        "    for i in range(len(dists)):\n",
        "        if i not in visitadas:\n",
        "            fer  = math.pow((1.0 + ferom[actual][i]), alfa)\n",
        "            peso = math.pow(1.0/dists[actual][i], beta) * fer\n",
        "            disponibles.append(i)\n",
        "            listaPesos.append(peso)\n",
        "\n",
        "    # Se elige aleatoriamente una de las ciudades disponibles,\n",
        "    # teniendo en cuenta su peso relativo. \n",
        "    valor     = random.random() * sum(listaPesos)\n",
        "    acumulado = 0.0\n",
        "    i         = -1\n",
        "    while valor > acumulado:\n",
        "        i         += 1\n",
        "        acumulado += listaPesos[i]\n",
        "\n",
        "    return disponibles[i]    \n",
        "\n",
        "\n",
        "# Genera una \"hormiga\", que elegira un camino teniendo en cuenta\n",
        "# las distancias y los rastros de feromonas. Devuelve una tupla\n",
        "# con el camino y su longitud.\n",
        "def eligeCamino(distancias, feromonas):\n",
        "    # La ciudad inicial siempre es la 0\n",
        "    camino     = [0]\n",
        "    longCamino = 0\n",
        "\n",
        "    # Elegir cada paso segun la distancia y las feromonas\n",
        "    while len(camino) < len(distancias):\n",
        "        ciudad      = eligeCiudad(distancias, feromonas, camino)\n",
        "        longCamino += distancias[camino[-1]][ciudad]\n",
        "        camino.append(ciudad)\n",
        "\n",
        "    # Para terminar hay que volver a la ciudad de origen (0)\n",
        "    longCamino += distancias[camino[-1]][0]\n",
        "    camino.append(0)\n",
        "    \n",
        "    return (camino, longCamino)\n",
        "\n",
        "# Actualiza la matriz de feromonas siguiendo el camino recibido\n",
        "def rastroFeromonas(feromonas, camino, dosis):\n",
        "    for i in range(len(camino) - 1):\n",
        "        feromonas[camino[i]][camino[i+1]] += dosis\n",
        "\n",
        "# Evapora todas las feromonas multiplicandolas por una constante\n",
        "# = 0.9 (en otras palabras, el coeficiente de evaporación es 0.1)\n",
        "def evaporaFeromonas(feromonas):\n",
        "    for lista in feromonas:\n",
        "        for i in range(len(lista)):\n",
        "            lista[i] *= 0.9\n",
        "\n",
        "# Resuelve el problema del viajante de comercio mediante el\n",
        "# algoritmo de la colonia de hormigas. Recibe una matriz de\n",
        "# distancias y devuelve una tupla con el mejor camino que ha\n",
        "# obtenido (lista de indices) y su longitud\n",
        "def hormigas(distancias, iteraciones, distMedia):\n",
        "    # Primero se crea una matriz de feromonas vacia\n",
        "    n = len(distancias)\n",
        "    feromonas = [[0 for i in range(n)] for j in range(n)]\n",
        "\n",
        "    # El mejor camino y su longitud (inicialmente \"infinita\")\n",
        "    mejorCamino     = []\n",
        "    longMejorCamino = sys.maxsize\n",
        "\n",
        "    # En cada iteracion se genera una hormiga, que elige un camino,\n",
        "    # y si es mejor que el mejor que teniamos, deja su rastro de\n",
        "    # feromonas (mayor cuanto más corto sea el camino)\n",
        "    for iter in range(iteraciones):\n",
        "        (camino,longCamino) = eligeCamino(distancias, feromonas)\n",
        "\n",
        "        if longCamino <= longMejorCamino:\n",
        "            mejorCamino     = camino\n",
        "            longMejorCamino = longCamino\n",
        "        \n",
        "        rastroFeromonas(feromonas, camino, distMedia/longCamino)\n",
        "\n",
        "        # En cualquier caso, las feromonas se van evaporando\n",
        "        evaporaFeromonas(feromonas)\n",
        "\n",
        "\n",
        "    # Se devuelve el mejor camino que se haya encontrado\n",
        "    return (mejorCamino, longMejorCamino)\n",
        "\n",
        "\n",
        "# Generacion de una matriz de prueba\n",
        "numCiudades     = 10\n",
        "distanciaMaxima = 10\n",
        "ciudades        = matrizDistancias(numCiudades, distanciaMaxima)\n",
        "\n",
        "# Obtencion del mejor camino\n",
        "iteraciones = 1000\n",
        "distMedia   = numCiudades*distanciaMaxima/2\n",
        "(camino, longCamino) = hormigas(ciudades, iteraciones, distMedia)\n",
        "print(\"Camino: \", camino)\n",
        "print(\"Longitud del camino: \", longCamino)"
      ],
      "execution_count": null,
      "outputs": [
        {
          "output_type": "stream",
          "text": [
            "Camino:  [0, 4, 7, 8, 2, 5, 9, 6, 3, 1, 0]\n",
            "Longitud del camino:  15.609334837661532\n"
          ],
          "name": "stdout"
        }
      ]
    },
    {
      "cell_type": "markdown",
      "metadata": {
        "id": "aLQL_0mn9yp2"
      },
      "source": [
        "Código 5.5: algoritmo del enjambre de partículas"
      ]
    },
    {
      "cell_type": "code",
      "metadata": {
        "colab": {
          "base_uri": "https://localhost:8080/"
        },
        "id": "SOSlwP989xnz",
        "outputId": "2a054120-9c49-4598-9821-1b6974a9949e"
      },
      "source": [
        "# -*- coding: utf-8 -*-\n",
        "from random import random\n",
        "\n",
        "# Funcion que se quiere minimizar\n",
        "def funcion(x, y):\n",
        "    sum1 = x**2 * (4-2.1*x**2 + x**4/3.0)\n",
        "    sum2 = x*y\n",
        "    sum3 = y**2 * (-4+4*y**2)\n",
        "    return sum1 + sum2 + sum3\n",
        "\n",
        "\n",
        "# Devuelve un numero aleatorio dentro de un rango con\n",
        "# distribucion uniforme (proporcionada por random)\n",
        "def aleatorio(inf, sup):\n",
        "    return random()*(sup-inf) + inf\n",
        "\n",
        "\n",
        "# Clase que representa una particula individual y que facilita\n",
        "# las operaciones necesarias\n",
        "class Particula:\n",
        "    # Algunos atributos de clase (comunes a todas las particulas)\n",
        "    # Parametros para actualizar la velocidad\n",
        "    inercia     = 1.4\n",
        "    cognitiva   = 2.0\n",
        "    social      = 2.0\n",
        "    # Limites del espacio de soluciones\n",
        "    infx = -2.0\n",
        "    supx =  2.0\n",
        "    infy = -1.0\n",
        "    supy =  1.0\n",
        "    # Factor de ajuste de la velocidad inicial\n",
        "    ajusteV = 100.0\n",
        "        \n",
        "    # Crea una particula dentro de los limites indicados\n",
        "    def __init__(self):\n",
        "        self.x  = aleatorio(Particula.infx, Particula.supx)\n",
        "        self.y  = aleatorio(Particula.infy, Particula.supy)\n",
        "        self.vx = aleatorio(Particula.infx/Particula.ajusteV,\n",
        "                            Particula.supx/Particula.ajusteV)\n",
        "        self.vy = aleatorio(Particula.infy/Particula.ajusteV,\n",
        "                            Particula.supy/Particula.ajusteV)\n",
        "        self.xLoc     = self.x\n",
        "        self.yLoc     = self.y\n",
        "        self.valorLoc = funcion(self.x, self.y)\n",
        "\n",
        "    # Actualiza la velocidad de la particula\n",
        "    def actualizaVelocidad(self, xGlob, yGlob):\n",
        "        cogX    = Particula.cognitiva*random()*(self.xLoc-self.x)\n",
        "        socX    = Particula.social*random()*(xGlob-self.x)\n",
        "        self.vx = Particula.inercia*self.vx + cogX + socX\n",
        "        cogY    = Particula.cognitiva*random()*(self.yLoc-self.y)\n",
        "        socY    = Particula.social*random()*(yGlob-self.x)\n",
        "        self.vy = Particula.inercia*self.vy + cogY + socY\n",
        "\n",
        "    # Actualiza la posicion de la particula\n",
        "    def actualizaPosicion(self):\n",
        "        self.x = self.x + self.vx\n",
        "        self.y = self.y + self.vy\n",
        "\n",
        "        # Debe mantenerse dentro del espacio de soluciones\n",
        "        self.x = max(self.x, Particula.infx)\n",
        "        self.x = min(self.x, Particula.supx)\n",
        "        self.y = max(self.y, Particula.infy)\n",
        "        self.y = min(self.y, Particula.supy)\n",
        "\n",
        "        # Si es inferior a la mejor, la adopta como mejor\n",
        "        valor = funcion(self.x, self.y)\n",
        "        if valor < self.valorLoc:\n",
        "            self.xLoc     = self.x\n",
        "            self.yLoc     = self.y\n",
        "            self.valorLoc = valor\n",
        "\n",
        "    \n",
        "# Mueve un enjambre de particulas durante las iteraciones indicadas.\n",
        "# Devuelve las coordenadas y el valor del minimo obtenido.\n",
        "def enjambreParticulas(particulas, iteraciones, reduccionInercia):\n",
        "\n",
        "    # Registra la mejor posicion global y su valor\n",
        "    mejorParticula = min(particulas, key=lambda p:p.valorLoc)\n",
        "    xGlob     = mejorParticula.xLoc\n",
        "    yGlob     = mejorParticula.yLoc\n",
        "    valorGlob = mejorParticula.valorLoc\n",
        "\n",
        "    # Bucle principal de simulacion\n",
        "    for iter in range(iteraciones):\n",
        "        # Actualiza la velocidad y posicion de cada particula\n",
        "        for p in particulas:\n",
        "            p.actualizaVelocidad(xGlob, yGlob)\n",
        "            p.actualizaPosicion()\n",
        "\n",
        "        # Hasta que no se han movido todas las particulas no se\n",
        "        # actualiza el minimo global, para simular que todas se \n",
        "        # mueven a la vez\n",
        "        mejorParticula = min(particulas, key=lambda p:p.valorLoc)\n",
        "        if mejorParticula.valorLoc < valorGlob:\n",
        "            xGlob     = mejorParticula.xLoc\n",
        "            yGlob     = mejorParticula.yLoc\n",
        "            valorGlob = mejorParticula.valorLoc\n",
        "\n",
        "        # Finalmente se reduce la inercia de las particulas\n",
        "        Particula.inercia*=reduccionInercia\n",
        "\n",
        "    return (xGlob, yGlob, valorGlob)\n",
        "\n",
        "\n",
        "# Parametros del problema\n",
        "nParticulas = 10\n",
        "iteraciones = 100\n",
        "redInercia  = 0.9\n",
        "\n",
        "# Genera un conjunto inicial de particulas\n",
        "particulas=[Particula() for i in range(nParticulas)]\n",
        "\n",
        "# Ejecuta el algoritmo del enjambre de particulas\n",
        "print(enjambreParticulas(particulas, iteraciones, redInercia))\n"
      ],
      "execution_count": null,
      "outputs": [
        {
          "output_type": "stream",
          "text": [
            "(-0.08953075905154309, 0.7107488974546601, -1.0315989519050357)\n"
          ],
          "name": "stdout"
        }
      ]
    },
    {
      "cell_type": "markdown",
      "metadata": {
        "id": "DClRBCER9_IY"
      },
      "source": [
        "Código 5.6: coloreado de mapas con búsqueda tabú"
      ]
    },
    {
      "cell_type": "code",
      "metadata": {
        "colab": {
          "base_uri": "https://localhost:8080/"
        },
        "id": "ACKsEcn497z3",
        "outputId": "a986da78-3ca8-4e8d-ee6e-27b04f8f714d"
      },
      "source": [
        "# -*- coding: utf-8 -*-\n",
        "# Nota: los grafos se representan como listas de listas\n",
        "from random import randint, random, sample\n",
        " \n",
        "# Dados dos nodos, devuelve 1 si estan conectados, 0 si no\n",
        "def conectados(grafo, nodo1, nodo2):\n",
        "    if nodo1 < nodo2:\n",
        "        nodo1, nodo2 = nodo2, nodo1\n",
        "    if nodo1 == nodo2:\n",
        "        return 0\n",
        "    else:\n",
        "        return grafo[nodo1][nodo2]\n",
        "\n",
        "\n",
        "# Funcion objetivo, que cuenta los vertices conectados que tienen\n",
        "# el mismo color\n",
        "def objetivo(grafo, estado):\n",
        "    suma = 0\n",
        "    for i in range(len(estado)-1):\n",
        "        for j in range(i+1,len(estado)):\n",
        "            if estado[i] == estado[j]:\n",
        "                suma += conectados(grafo, i, j)\n",
        "    return suma  \n",
        "\n",
        "# Devuelve una lista con los vertices que tienen algun problema\n",
        "# (estan conectados a otro del mismo color)\n",
        "def verticesProblema(grafo, estado):\n",
        "    nVertices = len(estado)\n",
        "    vertices  = []\n",
        "    for i in range(nVertices):\n",
        "        encontrado = False\n",
        "        j = 0\n",
        "        while j<nVertices and not encontrado:\n",
        "            if (estado[i]==estado[j]) and conectados(grafo, i, j):\n",
        "                encontrado = True\n",
        "            j += 1\n",
        "        if encontrado:\n",
        "            vertices.append(i)\n",
        "    return vertices\n",
        "\n",
        "# Genera la lista de vecinos de un estado y devuelve el\n",
        "# mejor de ellos, teniendo en cuenta la informacion tabu y\n",
        "# actualizandola para anotar el cambio de estado producido.\n",
        "def vecino(grafo, estado, k, tabu, iterTabu):\n",
        "    # En primer lugar se obtienen todos los vertices \n",
        "    # conectados a algun otro vertice del mismo color\n",
        "    vertices = verticesProblema(grafo, estado)\n",
        "\n",
        "    # Para cada uno de esos pares, se propone una\n",
        "    # nueva solucion consistente en cambiar el color de uno de\n",
        "    # los vertices (comprobando que no tome un color tabu).\n",
        "    candidatos = []\n",
        "    for v in vertices:\n",
        "        # Si quedan colores disponibles para ese vertice\n",
        "        if len(tabu[v]) < k:\n",
        "            nuevoColor = randint(1,k)\n",
        "            while nuevoColor in tabu[v]:\n",
        "                nuevoColor = randint(1,k)\n",
        "            nuevoEstado    = estado[:]\n",
        "            nuevoEstado[v] = nuevoColor\n",
        "            candidatos.append(nuevoEstado)\n",
        "\n",
        "    # Se devuelve el mejor estado obtenido (funcion objetivo menor).\n",
        "    # Si no hay soluciones posibles (los vertices problematicos \n",
        "    # tienen todos los colores en tabu) se devuelve un cambio al \n",
        "    # azar para desbloquear la situacion.\n",
        "    if len(candidatos) > 0:\n",
        "        elegido  = min(candidatos, key=lambda e:objetivo(grafo,e))\n",
        "        posicion = candidatos.index(elegido)\n",
        "        cambiado = vertices[posicion]\n",
        "    else:\n",
        "        elegido  = estado[:]\n",
        "        cambiado = sample(vertices, 1)[0]\n",
        "        elegido[cambiado] = randint(1, k)\n",
        "\n",
        "    # Se añade el cambio a la lista tabu.\n",
        "    tabu[cambiado][estado[cambiado]] = iterTabu\n",
        "    return elegido\n",
        "\n",
        "\n",
        "# Actualiza la informacion tabu, descontando una iteracion de \n",
        "# todas las entradas y eliminando las que llegan a 0\n",
        "def actualizaTabu(tabu):\n",
        "    for tabuVertice in tabu:\n",
        "        for color in tabuVertice.keys():\n",
        "            tabuVertice[color] -= 1\n",
        "        claves = [c for c,v in tabuVertice.items() if v<=0]\n",
        "        for c in claves:\n",
        "            del tabuVertice[c]\n",
        "\n",
        "\n",
        "# Dados un grafo, una asignacion inicial y un numero de colores,\n",
        "# busca una asignacion optima utilizando busqueda tabu.\n",
        "# Tambien hay que indicar el numero maximo de iteraciones, asi\n",
        "# como el numero de iteraciones que se mantiene un color en tabu.\n",
        "def busquedaTabu(grafo, asignacion, k, iteraciones, iterTabu):\n",
        "\n",
        "    estado    = asignacion[:]\n",
        "    mejor     = estado[:]\n",
        "    nVertices = len(estado)\n",
        "\n",
        "    # La estructura \"tabu\" almacena, para cada vertice (posiciones\n",
        "    # en la lista), los colores  que tiene prohibidos (claves de  \n",
        "    # cada diccionario) y durante cuantas iteraciones lo estaran \n",
        "    # (valores de cada diccionario)\n",
        "    tabu = [{} for n in range(nVertices)]\n",
        "    i = 0\n",
        "    while i < iteraciones and objetivo(grafo, estado) > 0:\n",
        "\n",
        "        # Selecciona el mejor vecino del estado actual\n",
        "        estado = vecino(grafo, estado, k, tabu, iterTabu)\n",
        "\n",
        "        if objetivo(grafo,estado)<objetivo(grafo,mejor):\n",
        "            mejor = estado[:]\n",
        "        print(i,objetivo(grafo,estado), objetivo(grafo,mejor))\n",
        "\n",
        "        # Actualiza los estados tabu (descuenta una iteracion)\n",
        "        actualizaTabu(tabu)\n",
        "\n",
        "        # Avanza a la siguiente iteracion\n",
        "        i += 1\n",
        "\n",
        "    return mejor\n",
        "\n",
        "\n",
        "# Genera un grafo en forma de matriz de conectividad, con un numero\n",
        "# de vertices y una probabilidad de contacto entre dos vertices.\n",
        "# Devuelve la mitad inferior de la matriz como lista de listas.\n",
        "def generaGrafo(nVertices, probContacto):\n",
        "    resultado = []\n",
        "    for i in range(nVertices):\n",
        "        # 1 si el numero aleatorio es menor o igual que\n",
        "        # la probabilidad de contacto, 0 si no\n",
        "        f = lambda : random()<=probContacto and 1 or 0\n",
        "        resultado.append([f() for j in range(i)])\n",
        "\n",
        "    return resultado    \n",
        "\n",
        "\n",
        "# Programa principal\n",
        "\n",
        "# Ejemplo: grafo que representa Sudamerica (no se resuelve)\n",
        "sudamerica = [[],\n",
        "             [1],\n",
        "             [0,1],\n",
        "             [0,0,1],\n",
        "             [0,0,0,1],\n",
        "             [1,0,0,0,0],\n",
        "             [1,1,1,1,1,0],\n",
        "             [1,0,0,0,0,1,1],\n",
        "             [0,0,0,0,0,0,1,1],\n",
        "             [0,0,0,0,0,0,0,1,1],\n",
        "             [0,0,0,0,0,0,1,0,1,0],\n",
        "             [0,0,0,0,0,0,1,0,1,1,1],\n",
        "             [0,0,0,0,0,0,1,0,0,0,0,1]]\n",
        "\n",
        "# Generacion de un grafo aleatorio.\n",
        "# Parametros del problema: numero de paises y probabilidad\n",
        "# de que dos paises cualesquiera sean linderos.\n",
        "# Logicamente, cuantos mas paises haya, mayor numero de\n",
        "# contactos tendra un pais determinado.\n",
        "nPaises      = 13\n",
        "probContacto = 0.05\n",
        "mapa         = generaGrafo(nPaises,probContacto)\n",
        "\n",
        "# Ejecucion del algoritmo: numero maximo de iteraciones del \n",
        "# algoritmo y numero que iteraciones que permanece un color \n",
        "# como tabu para un pais dado.\n",
        "iteraciones = 200\n",
        "iterTabu    = 15\n",
        "\n",
        "# Numero de colores\n",
        "k=4\n",
        "\n",
        "# Se crea un estado inicial aleatoriamente\n",
        "estado = [randint(1,k) for i in range(nPaises)]\n",
        "\n",
        "# Se ejecuta la busqueda tabu con k colores.\n",
        "solucion = busquedaTabu(sudamerica, estado, k, iteraciones, iterTabu)\n",
        "print('Solucion:' + str(solucion))\n",
        "print('Colisiones=' + str(objetivo(sudamerica, solucion)))\n"
      ],
      "execution_count": null,
      "outputs": [
        {
          "output_type": "stream",
          "text": [
            "0 2 2\n",
            "1 1 1\n",
            "2 2 1\n",
            "3 2 1\n",
            "4 2 1\n",
            "5 1 1\n",
            "6 1 1\n",
            "7 1 1\n",
            "8 1 1\n",
            "9 1 1\n",
            "10 2 1\n",
            "11 2 1\n",
            "12 2 1\n",
            "13 1 1\n",
            "14 1 1\n",
            "15 2 1\n",
            "16 1 1\n",
            "17 1 1\n",
            "18 1 1\n",
            "19 1 1\n",
            "20 1 1\n",
            "21 0 0\n",
            "Solucion:[2, 1, 2, 4, 1, 3, 3, 4, 1, 3, 4, 2, 1]\n",
            "Colisiones=0\n"
          ],
          "name": "stdout"
        }
      ]
    },
    {
      "cell_type": "code",
      "metadata": {
        "id": "gd9JAiVR-DoZ"
      },
      "source": [
        ""
      ],
      "execution_count": null,
      "outputs": []
    }
  ]
}